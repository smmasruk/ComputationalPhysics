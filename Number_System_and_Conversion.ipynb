{
  "nbformat": 4,
  "nbformat_minor": 0,
  "metadata": {
    "colab": {
      "name": "Number System and Conversion.ipynb",
      "provenance": [],
      "collapsed_sections": [],
      "include_colab_link": true
    },
    "kernelspec": {
      "name": "python3",
      "display_name": "Python 3"
    },
    "language_info": {
      "name": "python"
    }
  },
  "cells": [
    {
      "cell_type": "markdown",
      "metadata": {
        "id": "view-in-github",
        "colab_type": "text"
      },
      "source": [
        "<a href=\"https://colab.research.google.com/github/smmasruk/ComputationalPhysics/blob/main/Number_System_and_Conversion.ipynb\" target=\"_parent\"><img src=\"https://colab.research.google.com/assets/colab-badge.svg\" alt=\"Open In Colab\"/></a>"
      ]
    },
    {
      "cell_type": "markdown",
      "metadata": {
        "id": "kac12T7zCtIC"
      },
      "source": [
        "# PHY 305 (Digital Electronics)\n",
        "\n",
        "> ## Experiment 1: Experiment 1: Binary, decimal and hexadecimal number systems. \n",
        "S.M.Masruk Uddin \\\\\n",
        "**ID:1820855**\n",
        "\n",
        "\n",
        "\n",
        "\n"
      ]
    },
    {
      "cell_type": "markdown",
      "metadata": {
        "id": "YB1nfA72987v"
      },
      "source": [
        "## **Binary To decimal conversion**\n",
        "Binary Number contains only 0 and 1. Multiplying each digit with appropriate weight (that is: $\\text{Digit} \\times 2^{\\text{position of the Digit}}$) and adding them together gives the decimal equivalent of that.  Positions of the digits are integers. These numbers are positive and increase to the left of the binary point, Negative and decrease to the right of the binary point. "
      ]
    },
    {
      "cell_type": "code",
      "metadata": {
        "id": "mXIrQFx1J_hi",
        "colab": {
          "base_uri": "https://localhost:8080/"
        },
        "outputId": "e7e83d9d-6e1c-4536-8cd4-9dbef58d8482"
      },
      "source": [
        "def b2d(num):\n",
        "#import a number and  make it a string \n",
        "\t\n",
        "# turn  this number in to string.\n",
        "\ty={'1','0','.'} \n",
        "\tx=str(num)\n",
        "\tla=len(x)\n",
        " #checking if inputs are in list y or not \n",
        "\tfor i in range(la):\n",
        "\t\tif x[i] not in y:\n",
        "\t\t\trn='invalid input'\n",
        "\t\t\treturn print(rn)\n",
        "\t\t\tbreak\n",
        "\t\t\n",
        "\n",
        "#find the possition of  binary point give it a name d \n",
        "\td=x.find('.')\n",
        "\tif d==-1:\n",
        "\t\td=len(x)\n",
        "\tw=0\n",
        "#if the number is not whole number \n",
        "\tfor i in range(d):\n",
        "\t\tp= d-1-i\n",
        "\t\tk=int(x[i])* 2**p\n",
        "\t\tw=k+w\n",
        "# now trasformation of the later part (lets call it not whole number). which starts from point d+1\n",
        "\tb=len(x[d+1:])\n",
        "\ti=1\n",
        "\tr=0\n",
        "\tfor i in range (1,b+1):\n",
        "\t\t\tk=int(x[d+i])*2**(-i)\n",
        "\t\t\tr=k+r\t\n",
        "\t#return r\n",
        "\tdcm=w+r\n",
        "\t#Putting this not whole part after decimal point \n",
        "\t#print('in decimal the number is: ' +str(dcm))\n",
        "\treturn dcm\n",
        "\n",
        "#test case:\t\n",
        "b2d(input())"
      ],
      "execution_count": null,
      "outputs": [
        {
          "name": "stdout",
          "output_type": "stream",
          "text": [
            "100011.111011\n"
          ]
        },
        {
          "output_type": "execute_result",
          "data": {
            "text/plain": [
              "35.921875"
            ]
          },
          "metadata": {},
          "execution_count": 1
        }
      ]
    },
    {
      "cell_type": "markdown",
      "metadata": {
        "id": "k1pICyZPKpSB"
      },
      "source": [
        "#**Decimal To binary conversion**\n",
        "Following steps converts  a deciamal number into binary number:\n",
        "\n",
        "1.  Devide the integer part by two. \n",
        "2.  The reminder will be 0 or 1, strore it in the order. \n",
        "3.  Divide the dividend by 2. \n",
        "4.  The reminder will be 0 or 1, strore it in the order. \n",
        "5.  If the dividend is 0 stop, unless go back to step 3.\n",
        "\n",
        "The fractional part also works in the same manner, while instead of dividing by 2 one has to multiply by 2.  \n"
      ]
    },
    {
      "cell_type": "code",
      "metadata": {
        "id": "dznFVKCcLVYf",
        "colab": {
          "base_uri": "https://localhost:8080/",
          "height": 53
        },
        "outputId": "5647b0e7-dc2c-470b-f4e7-fbbf4f62e281"
      },
      "source": [
        "#inport a number and  make it a string \n",
        "import math\n",
        "#find the possition of  binary point give it a name d\n",
        "def d2b(num):\n",
        "\tx=str(num)\n",
        "\td=x.find('.')\n",
        "\n",
        "\n",
        "\tif d == -1:\n",
        "\t\tx=x+'.0'\n",
        "\td=x.find('.')\n",
        "\tnum=int(x[:d])\n",
        "\tw = ''\n",
        "\twhile(num):\n",
        "\t\tk = num % 2\n",
        "\t\tw = str(k) + w\n",
        "\t\tnum = num // 2\n",
        "\tm=str(w)\n",
        "\n",
        "\ta=int(x[d+1:])\n",
        "\n",
        "\tb=len(x[d+1:])\n",
        "\tfrac=a/(10**b)\n",
        "\n",
        "\tf=''\n",
        "\twhile(frac!=0):\n",
        "\t\tp=frac*2\n",
        "\t\t\n",
        "\t\tk=p//1\n",
        "\n",
        "\t\tf=str(math.floor(k))+f\n",
        "\t\tfrac=p%1\n",
        "\t\t\n",
        "\tn=str(f)\n",
        "\tl=n[::-1]\n",
        "\td='.'\n",
        "\n",
        "\tbinary=m+d+l\n",
        "\treturn  (binary)\n",
        "\n",
        "\n",
        "\n",
        "#test case : \n",
        "d2b(input())"
      ],
      "execution_count": null,
      "outputs": [
        {
          "name": "stdout",
          "output_type": "stream",
          "text": [
            "2343.341\n"
          ]
        },
        {
          "output_type": "execute_result",
          "data": {
            "application/vnd.google.colaboratory.intrinsic+json": {
              "type": "string"
            },
            "text/plain": [
              "'100100100111.010101110100101111000110101001111110111110011101101101'"
            ]
          },
          "metadata": {},
          "execution_count": 2
        }
      ]
    },
    {
      "cell_type": "markdown",
      "metadata": {
        "id": "ZShO7IXzPhX1"
      },
      "source": [
        "#Hexadecimal to Decimal \n",
        "\n",
        "Hexadecimal to Decimal conversion works the same way as Binary to Decimal except the base is 16 instead of 2. \n",
        "\n",
        "\n",
        "Converssion Table 1: \n",
        "$$\n",
        "0: 0\\\\\n",
        "1: 1\\\\\n",
        "2: 2\\\\\n",
        "3: 3\\\\\n",
        "4: 4\\\\\n",
        "5: 5\\\\\n",
        "6: 6\\\\\n",
        "7: 7\\\\\n",
        "8: 8\\\\\n",
        "9: 9\\\\\n",
        "A: 10\\\\ \n",
        "B: 11\\\\\n",
        "C: 12\\\\\n",
        "D: 13\\\\\n",
        "E: 14\\\\\n",
        "F: 15\n",
        "$$\n",
        "\n"
      ]
    },
    {
      "cell_type": "code",
      "metadata": {
        "id": "x0-ZGhG9PXs-",
        "colab": {
          "base_uri": "https://localhost:8080/"
        },
        "outputId": "cc6aefb4-343e-406f-d9bf-ea22625d814f"
      },
      "source": [
        "#Hexadecimal to Decimal \n",
        "conversion_table = {'0': 0, '1': 1, '2': 2, '3': 3, '4': 4, '5': 5, '6': 6, '7': 7, '8': 8, '9': 9, 'A': 10 , 'B': 11, 'C': 12, 'D': 13, 'E': 14, 'F': 15}\n",
        "def h2d(hdm):\n",
        "  decimal = 0\n",
        "  decimal2=0\n",
        "  \n",
        "  x=str(hdm)\n",
        "  d=x.find('.')\n",
        "  if d!=-1:\n",
        "    hexadecimal=hdm[:d]\n",
        "    hexadecimalfrc=hdm[d+1:] \n",
        "  else:\n",
        "    hexadecimal=hdm\n",
        "  # computing maximum order\n",
        "  power = len(hexadecimal) -1\n",
        "\n",
        "  for digit in hexadecimal:\n",
        "    decimal += conversion_table[digit]*16**power\n",
        "    power -= 1\n",
        "  pow=-1\n",
        "  \n",
        "  for digit in hexadecimalfrc:\n",
        "    decimal2 += conversion_table[digit]*16**pow\n",
        "    pow-= -1\n",
        "  \n",
        "  decmalcocv=decimal+decimal2\n",
        "  return decmalcocv\n",
        "\n",
        "\n",
        "\n",
        "#test case:\n",
        "h2d(input())"
      ],
      "execution_count": null,
      "outputs": [
        {
          "name": "stdout",
          "output_type": "stream",
          "text": [
            "1A7D.F4\n"
          ]
        },
        {
          "output_type": "execute_result",
          "data": {
            "text/plain": [
              "6785.9375"
            ]
          },
          "metadata": {},
          "execution_count": 3
        }
      ]
    },
    {
      "cell_type": "markdown",
      "metadata": {
        "id": "EJZw8i90hNjG"
      },
      "source": [
        "#Hexadecimal to Binary:\n",
        "\n",
        "The binary equivalent of each digit of Hexadecimal is shown in conversion table 2. Conversion of each digit of hexadecimal Number to a  4 digit binary equivalent and adding those numbers like strings together will give the binary number. \\\\\n",
        "Conversion table 2:\n",
        "$$\n",
        "0: 0000\\\\ \n",
        "1: 0001\\\\ \n",
        "2: 0010\\\\ \n",
        "3: 0011\\\\ \n",
        "4: 0100\\\\ \n",
        "5: 0101\\\\ \n",
        "6: 0110\\\\ \n",
        "7: 0111\\\\ \n",
        "8: 1000\\\\ \n",
        "9: 1001\\\\ \n",
        "A: 1010\\\\ \n",
        "B: 1011\\\\ \n",
        "C: 1100\\\\ \n",
        "D: 1101\\\\ \n",
        "E: 1110\\\\ \n",
        "F: 1111\\\\\n",
        "$$"
      ]
    },
    {
      "cell_type": "code",
      "metadata": {
        "id": "1EnMlX4bmDyw",
        "colab": {
          "base_uri": "https://localhost:8080/",
          "height": 53
        },
        "outputId": "b82d99df-c2a7-4064-e616-1fa4c8cbab62"
      },
      "source": [
        "#Hexadecimal to Decimal \n",
        "conversion_table2 = {'0': '0000', '1': '0001', '2': '0010', '3': '0011', '4': '0100', '5': '0101', '6': '0110', '7': '0111', '8': '1000', '9': '1001', 'A': '1010' , 'B': '1011', 'C': '1100', 'D': '1101', 'E': '1110', 'F': '1111'}\n",
        "def h2b(hdm):\n",
        "  nf=''\n",
        "  f=''\n",
        "  \n",
        "  x=str(hdm)\n",
        "  d=x.find('.')\n",
        "  if d!=-1:\n",
        "    hds=hdm[:d]\n",
        "    hdfs=hdm[d+1:] \n",
        "  else:\n",
        "    hds=hdm\n",
        "    hdfs=''\n",
        "\n",
        "  for digit in hds:\n",
        "    p=digit\n",
        "    stc=str(p)\n",
        "    ct=conversion_table2[stc]\n",
        "    nf=nf+ct \n",
        "  \n",
        "  for element in hdfs:\n",
        "    q=element\n",
        "    stc2=str(q)\n",
        "    ct2=conversion_table2[stc2]\n",
        "    f=f+ct2\n",
        "  \n",
        "  conv=nf+'.'+f\n",
        "  return (conv)\n",
        "\n",
        "\n",
        "#test Case:\n",
        "h2b(input())"
      ],
      "execution_count": null,
      "outputs": [
        {
          "name": "stdout",
          "output_type": "stream",
          "text": [
            "1D5.F5\n"
          ]
        },
        {
          "output_type": "execute_result",
          "data": {
            "application/vnd.google.colaboratory.intrinsic+json": {
              "type": "string"
            },
            "text/plain": [
              "'000111010101.11110101'"
            ]
          },
          "metadata": {},
          "execution_count": 4
        }
      ]
    },
    {
      "cell_type": "markdown",
      "metadata": {
        "id": "Ne0A2raM75vp"
      },
      "source": [
        "#Binary to Hexadecimal. \n",
        "Following algorithm converts a Binary Number to Hexadecimal: \n",
        "\n",
        "1.   Divide the whole binary number into 4 digits binary number chunks.\n",
        "2.   Using conversion table 2 write the hexadecimal equivalent of each chunk in order.\n",
        "  \n",
        "\n",
        "\n"
      ]
    },
    {
      "cell_type": "code",
      "metadata": {
        "id": "a2kwQKrC7-0j",
        "colab": {
          "base_uri": "https://localhost:8080/",
          "height": 53
        },
        "outputId": "449b353e-53c8-4af8-d2fc-ccc8a599a680"
      },
      "source": [
        "conversion_table2 = {'0': '0000', '1': '0001', '2': '0010', '3': '0011', '4': '0100', '5': '0101', '6': '0110', '7': '0111', '8': '1000', '9': '1001', 'A': '1010' , 'B': '1011', 'C': '1100', 'D': '1101', 'E': '1110', 'F': '1111'}\n",
        "#rev_convTab2 truns the items of conversion_table 2 into keys and keys into item. so '1':'0001' becomes'0001':'1' \n",
        "rev_convTab2={}\n",
        "for key,value in conversion_table2.items():\n",
        "  rev_convTab2[value]=key\n",
        "\n",
        "\n",
        "def B2hex(brn):\n",
        "  nf=''\n",
        "  f=''\n",
        "  store1=[]\n",
        "  store2=[]\n",
        "  x=str(brn)\n",
        "  d=x.find('.')\n",
        "  if d!=-1:\n",
        "    brs=x[:d]\n",
        "    brfs=x[d+1:] \n",
        "  else:\n",
        "    brs=x\n",
        "    brfs=''\n",
        "  brs = '000' + brs\n",
        "  brfs=brfs+'000'\n",
        "  r=len(brs)\n",
        "  for i in range(int(len(brs)/4+1)):\n",
        "    if r < 0:\n",
        "      break\n",
        "    store1.append(brs[r-4:r])\n",
        "    r=r-4\n",
        "  nr=0\n",
        "  for i in range(int(len(brfs)/4)):\n",
        "    if nr > len(brfs):\n",
        "      break\n",
        "    store2.append(brfs[nr:nr+4])\n",
        "    nr=nr+4\n",
        "  #print(store2)\n",
        "  nfp=''\n",
        "  fp=''\n",
        "  for i in store1:\n",
        "    x = rev_convTab2.get(i)\n",
        "    if x:\n",
        "      nfp=x+nfp\n",
        "  for i in store2:\n",
        "    x = rev_convTab2.get(i)\n",
        "    if x:\n",
        "      fp+=x\n",
        "  return (nfp+'.'+fp)\n",
        "\n",
        "\n",
        "\n",
        "#test case: \n",
        "B2hex(input())\n"
      ],
      "execution_count": null,
      "outputs": [
        {
          "name": "stdout",
          "output_type": "stream",
          "text": [
            "100000101.100101\n"
          ]
        },
        {
          "output_type": "execute_result",
          "data": {
            "application/vnd.google.colaboratory.intrinsic+json": {
              "type": "string"
            },
            "text/plain": [
              "'105.94'"
            ]
          },
          "metadata": {},
          "execution_count": 5
        }
      ]
    },
    {
      "cell_type": "markdown",
      "metadata": {
        "id": "3jGQ7CufJ5FG"
      },
      "source": [
        "#Decmal to hexadecimal\n",
        "In the following function, I have used another function I wrote above. I have converted the Decimal to binary then converted the binary into hexadecimal."
      ]
    },
    {
      "cell_type": "code",
      "metadata": {
        "id": "PxHBgXHrKCYC",
        "colab": {
          "base_uri": "https://localhost:8080/",
          "height": 53
        },
        "outputId": "d435b010-fbac-4913-c6ae-07acab6149a4"
      },
      "source": [
        "def d2hex(x):\n",
        "  r=d2b(x)\n",
        "  return B2hex(r)\n",
        "\n",
        "\n",
        "#test case: \n",
        "d2hex(input())"
      ],
      "execution_count": null,
      "outputs": [
        {
          "name": "stdout",
          "output_type": "stream",
          "text": [
            "929.2113\n"
          ]
        },
        {
          "output_type": "execute_result",
          "data": {
            "application/vnd.google.colaboratory.intrinsic+json": {
              "type": "string"
            },
            "text/plain": [
              "'3A1.3617C1BDA5119C'"
            ]
          },
          "metadata": {},
          "execution_count": 7
        }
      ]
    },
    {
      "cell_type": "markdown",
      "metadata": {
        "id": "WDm4DSw3azGl"
      },
      "source": [
        "## *precaution:*\n",
        "It is recommanded to take the input of these functions using the input function input().  "
      ]
    }
  ]
}