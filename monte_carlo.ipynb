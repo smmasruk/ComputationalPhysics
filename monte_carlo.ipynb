{
  "nbformat": 4,
  "nbformat_minor": 0,
  "metadata": {
    "colab": {
      "name": "monte_carlo.ipynb",
      "provenance": [],
      "authorship_tag": "ABX9TyPT1kT0SvfZkr8ApR9Av8u7"
    },
    "kernelspec": {
      "name": "python3",
      "display_name": "Python 3"
    },
    "language_info": {
      "name": "python"
    }
  },
  "cells": [
    {
      "cell_type": "markdown",
      "metadata": {
        "id": "dA3eucO0147-"
      },
      "source": [
        "Folowing code finds the area of a  unit circle using random number. \n",
        "The asnwer should be $\\pi$. \n",
        "And after finding that area, I have ploted the points, just to figure out if it forms a circle or not. \n",
        "This process is to call Monte carlo ( to some extend.)\n",
        "\n",
        "in this case x range and y range should be -1 to +1 considering, the center of the circle is in the origin.  "
      ]
    },
    {
      "cell_type": "code",
      "metadata": {
        "colab": {
          "base_uri": "https://localhost:8080/",
          "height": 282
        },
        "id": "YBjLNTx7f7_M",
        "outputId": "0a767051-4e90-4520-a80d-8cc1a1b19668"
      },
      "source": [
        "import random\n",
        "import time\n",
        "import matplotlib.pyplot as plot\n",
        "\n",
        "t=time.time()\n",
        "random.seed(t)\n",
        "d=100000\n",
        "x=[]\n",
        "y=[]\n",
        "count=0\n",
        "for i in range(d):\n",
        "  x1=(2*random.random()-1)\n",
        "  y1=(2*random.random()-1)\n",
        "  if(x1**2+y1**2<=1):\n",
        "    x.append(x1)\n",
        "    y.append(y1)\n",
        "    count=count+1\n",
        "plot.plot(x,y)\n",
        "print(\"the area is :\", count*4/d,\".\")\n",
        "\n",
        "\n"
      ],
      "execution_count": null,
      "outputs": [
        {
          "output_type": "stream",
          "name": "stdout",
          "text": [
            "the area is : 3.13224 .\n"
          ]
        },
        {
          "output_type": "display_data",
          "data": {
            "image/png": "[encoded data removed]",
            "text/plain": [
              "<Figure size 432x288 with 1 Axes>"
            ]
          },
          "metadata": {
            "needs_background": "light"
          }
        }
      ]
    },
    {
      "cell_type": "markdown",
      "metadata": {
        "id": "BHvE74PJ2mKX"
      },
      "source": [
        "and lets do an integration $I=\\int_0^3 p^2  \\text{d}p$. using same process.\n",
        "\n",
        "x range is 0 to 3. \n",
        "\n",
        "y range is 0 to 9. \n",
        "\n",
        "And we know that $I=\\int_0^3 p^2  \\text{d}p = 9 $."
      ]
    },
    {
      "cell_type": "code",
      "metadata": {
        "colab": {
          "base_uri": "https://localhost:8080/",
          "height": 282
        },
        "id": "JVK0Ayhq3UDo",
        "outputId": "19131853-8f68-4e4b-a038-42e5182fe872"
      },
      "source": [
        "I=[]\n",
        "P=[]\n",
        "count=0\n",
        "for i in range(d):\n",
        "  i1=(9*random.random())\n",
        "  p1=(3*random.random())\n",
        "  if(i1-p1**2<=0):\n",
        "    I.append(i1)\n",
        "    P.append(p1)\n",
        "    count=count+1\n",
        "plot.plot(P,I,\".\")\n",
        "area = count*3*9/d\n",
        "print(\"the integral is: \", area)"
      ],
      "execution_count": 56,
      "outputs": [
        {
          "output_type": "stream",
          "name": "stdout",
          "text": [
            "the integral is:  9.04662\n"
          ]
        },
        {
          "output_type": "display_data",
          "data": {
            "image/png": "[encoded data removed]",
            "text/plain": [
              "<Figure size 432x288 with 1 Axes>"
            ]
          },
          "metadata": {
            "needs_background": "light"
          }
        }
      ]
    }
  ]
}